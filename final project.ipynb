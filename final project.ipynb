{
 "cells": [
  {
   "cell_type": "markdown",
   "id": "f55ea19d",
   "metadata": {},
   "source": [
    "#    Video Game Sales with Ratings EDA\n"
   ]
  },
  {
   "cell_type": "markdown",
   "id": "ef609189",
   "metadata": {},
   "source": [
    "$\\;\\;\\;\\;\\;\\;$"
   ]
  },
  {
   "cell_type": "code",
   "execution_count": 724,
   "id": "09f07b38",
   "metadata": {},
   "outputs": [],
   "source": [
    "#import libraries that be used\n",
    "import matplotlib.pyplot as plt \n",
    "import pandas as pd\n",
    "import numpy as np\n",
    "%config InlineBackend.figure_format='png'\n",
    "#to reduce the number and delete 'e' in numbers\n",
    "pd.set_option('display.float_format', lambda x: '%.4f' % x) "
   ]
  },
  {
   "cell_type": "code",
   "execution_count": 725,
   "id": "c488df16",
   "metadata": {},
   "outputs": [],
   "source": [
    "project =pd.read_csv('case study dataset.csv')"
   ]
  },
  {
   "cell_type": "code",
   "execution_count": 726,
   "id": "7a6ec954",
   "metadata": {
    "scrolled": true
   },
   "outputs": [
    {
     "data": {
      "text/html": [
       "<div>\n",
       "<style scoped>\n",
       "    .dataframe tbody tr th:only-of-type {\n",
       "        vertical-align: middle;\n",
       "    }\n",
       "\n",
       "    .dataframe tbody tr th {\n",
       "        vertical-align: top;\n",
       "    }\n",
       "\n",
       "    .dataframe thead th {\n",
       "        text-align: right;\n",
       "    }\n",
       "</style>\n",
       "<table border=\"1\" class=\"dataframe\">\n",
       "  <thead>\n",
       "    <tr style=\"text-align: right;\">\n",
       "      <th></th>\n",
       "      <th>Name</th>\n",
       "      <th>Platform</th>\n",
       "      <th>Year_of_Release</th>\n",
       "      <th>Genre</th>\n",
       "      <th>Publisher</th>\n",
       "      <th>NA_Sales</th>\n",
       "      <th>EU_Sales</th>\n",
       "      <th>JP_Sales</th>\n",
       "      <th>Other_Sales</th>\n",
       "      <th>Global_Sales</th>\n",
       "      <th>Critic_Score</th>\n",
       "      <th>Critic_Count</th>\n",
       "      <th>User_Score</th>\n",
       "      <th>User_Count</th>\n",
       "      <th>Developer</th>\n",
       "      <th>Rating</th>\n",
       "    </tr>\n",
       "  </thead>\n",
       "  <tbody>\n",
       "    <tr>\n",
       "      <th>0</th>\n",
       "      <td>Wii Sports</td>\n",
       "      <td>Wii</td>\n",
       "      <td>2006.0000</td>\n",
       "      <td>Sports</td>\n",
       "      <td>Nintendo</td>\n",
       "      <td>41.3600</td>\n",
       "      <td>28.9600</td>\n",
       "      <td>3.7700</td>\n",
       "      <td>8.4500</td>\n",
       "      <td>82.5300</td>\n",
       "      <td>76.0000</td>\n",
       "      <td>51.0000</td>\n",
       "      <td>8</td>\n",
       "      <td>322.0000</td>\n",
       "      <td>Nintendo</td>\n",
       "      <td>E</td>\n",
       "    </tr>\n",
       "    <tr>\n",
       "      <th>1</th>\n",
       "      <td>Super Mario Bros.</td>\n",
       "      <td>NES</td>\n",
       "      <td>1985.0000</td>\n",
       "      <td>Platform</td>\n",
       "      <td>Nintendo</td>\n",
       "      <td>29.0800</td>\n",
       "      <td>3.5800</td>\n",
       "      <td>6.8100</td>\n",
       "      <td>0.7700</td>\n",
       "      <td>40.2400</td>\n",
       "      <td>NaN</td>\n",
       "      <td>NaN</td>\n",
       "      <td>NaN</td>\n",
       "      <td>NaN</td>\n",
       "      <td>NaN</td>\n",
       "      <td>NaN</td>\n",
       "    </tr>\n",
       "    <tr>\n",
       "      <th>2</th>\n",
       "      <td>Mario Kart Wii</td>\n",
       "      <td>Wii</td>\n",
       "      <td>2008.0000</td>\n",
       "      <td>Racing</td>\n",
       "      <td>Nintendo</td>\n",
       "      <td>15.6800</td>\n",
       "      <td>12.7600</td>\n",
       "      <td>3.7900</td>\n",
       "      <td>3.2900</td>\n",
       "      <td>35.5200</td>\n",
       "      <td>82.0000</td>\n",
       "      <td>73.0000</td>\n",
       "      <td>8.3</td>\n",
       "      <td>709.0000</td>\n",
       "      <td>Nintendo</td>\n",
       "      <td>E</td>\n",
       "    </tr>\n",
       "    <tr>\n",
       "      <th>3</th>\n",
       "      <td>Wii Sports Resort</td>\n",
       "      <td>Wii</td>\n",
       "      <td>2009.0000</td>\n",
       "      <td>Sports</td>\n",
       "      <td>Nintendo</td>\n",
       "      <td>15.6100</td>\n",
       "      <td>10.9300</td>\n",
       "      <td>3.2800</td>\n",
       "      <td>2.9500</td>\n",
       "      <td>32.7700</td>\n",
       "      <td>80.0000</td>\n",
       "      <td>73.0000</td>\n",
       "      <td>8</td>\n",
       "      <td>192.0000</td>\n",
       "      <td>Nintendo</td>\n",
       "      <td>E</td>\n",
       "    </tr>\n",
       "    <tr>\n",
       "      <th>4</th>\n",
       "      <td>Pokemon Red/Pokemon Blue</td>\n",
       "      <td>GB</td>\n",
       "      <td>1996.0000</td>\n",
       "      <td>Role-Playing</td>\n",
       "      <td>Nintendo</td>\n",
       "      <td>11.2700</td>\n",
       "      <td>8.8900</td>\n",
       "      <td>10.2200</td>\n",
       "      <td>1.0000</td>\n",
       "      <td>31.3700</td>\n",
       "      <td>NaN</td>\n",
       "      <td>NaN</td>\n",
       "      <td>NaN</td>\n",
       "      <td>NaN</td>\n",
       "      <td>NaN</td>\n",
       "      <td>NaN</td>\n",
       "    </tr>\n",
       "    <tr>\n",
       "      <th>5</th>\n",
       "      <td>Tetris</td>\n",
       "      <td>GB</td>\n",
       "      <td>1989.0000</td>\n",
       "      <td>Puzzle</td>\n",
       "      <td>Nintendo</td>\n",
       "      <td>23.2000</td>\n",
       "      <td>2.2600</td>\n",
       "      <td>4.2200</td>\n",
       "      <td>0.5800</td>\n",
       "      <td>30.2600</td>\n",
       "      <td>NaN</td>\n",
       "      <td>NaN</td>\n",
       "      <td>NaN</td>\n",
       "      <td>NaN</td>\n",
       "      <td>NaN</td>\n",
       "      <td>NaN</td>\n",
       "    </tr>\n",
       "    <tr>\n",
       "      <th>6</th>\n",
       "      <td>New Super Mario Bros.</td>\n",
       "      <td>DS</td>\n",
       "      <td>2006.0000</td>\n",
       "      <td>Platform</td>\n",
       "      <td>Nintendo</td>\n",
       "      <td>11.2800</td>\n",
       "      <td>9.1400</td>\n",
       "      <td>6.5000</td>\n",
       "      <td>2.8800</td>\n",
       "      <td>29.8000</td>\n",
       "      <td>89.0000</td>\n",
       "      <td>65.0000</td>\n",
       "      <td>8.5</td>\n",
       "      <td>431.0000</td>\n",
       "      <td>Nintendo</td>\n",
       "      <td>E</td>\n",
       "    </tr>\n",
       "    <tr>\n",
       "      <th>7</th>\n",
       "      <td>Wii Play</td>\n",
       "      <td>Wii</td>\n",
       "      <td>2006.0000</td>\n",
       "      <td>Misc</td>\n",
       "      <td>Nintendo</td>\n",
       "      <td>13.9600</td>\n",
       "      <td>9.1800</td>\n",
       "      <td>2.9300</td>\n",
       "      <td>2.8400</td>\n",
       "      <td>28.9200</td>\n",
       "      <td>58.0000</td>\n",
       "      <td>41.0000</td>\n",
       "      <td>6.6</td>\n",
       "      <td>129.0000</td>\n",
       "      <td>Nintendo</td>\n",
       "      <td>E</td>\n",
       "    </tr>\n",
       "    <tr>\n",
       "      <th>8</th>\n",
       "      <td>New Super Mario Bros. Wii</td>\n",
       "      <td>Wii</td>\n",
       "      <td>2009.0000</td>\n",
       "      <td>Platform</td>\n",
       "      <td>Nintendo</td>\n",
       "      <td>14.4400</td>\n",
       "      <td>6.9400</td>\n",
       "      <td>4.7000</td>\n",
       "      <td>2.2400</td>\n",
       "      <td>28.3200</td>\n",
       "      <td>87.0000</td>\n",
       "      <td>80.0000</td>\n",
       "      <td>8.4</td>\n",
       "      <td>594.0000</td>\n",
       "      <td>Nintendo</td>\n",
       "      <td>E</td>\n",
       "    </tr>\n",
       "  </tbody>\n",
       "</table>\n",
       "</div>"
      ],
      "text/plain": [
       "                        Name Platform  Year_of_Release         Genre  \\\n",
       "0                 Wii Sports      Wii        2006.0000        Sports   \n",
       "1          Super Mario Bros.      NES        1985.0000      Platform   \n",
       "2             Mario Kart Wii      Wii        2008.0000        Racing   \n",
       "3          Wii Sports Resort      Wii        2009.0000        Sports   \n",
       "4   Pokemon Red/Pokemon Blue       GB        1996.0000  Role-Playing   \n",
       "5                     Tetris       GB        1989.0000        Puzzle   \n",
       "6      New Super Mario Bros.       DS        2006.0000      Platform   \n",
       "7                   Wii Play      Wii        2006.0000          Misc   \n",
       "8  New Super Mario Bros. Wii      Wii        2009.0000      Platform   \n",
       "\n",
       "  Publisher  NA_Sales  EU_Sales  JP_Sales  Other_Sales  Global_Sales  \\\n",
       "0  Nintendo   41.3600   28.9600    3.7700       8.4500       82.5300   \n",
       "1  Nintendo   29.0800    3.5800    6.8100       0.7700       40.2400   \n",
       "2  Nintendo   15.6800   12.7600    3.7900       3.2900       35.5200   \n",
       "3  Nintendo   15.6100   10.9300    3.2800       2.9500       32.7700   \n",
       "4  Nintendo   11.2700    8.8900   10.2200       1.0000       31.3700   \n",
       "5  Nintendo   23.2000    2.2600    4.2200       0.5800       30.2600   \n",
       "6  Nintendo   11.2800    9.1400    6.5000       2.8800       29.8000   \n",
       "7  Nintendo   13.9600    9.1800    2.9300       2.8400       28.9200   \n",
       "8  Nintendo   14.4400    6.9400    4.7000       2.2400       28.3200   \n",
       "\n",
       "   Critic_Score  Critic_Count User_Score  User_Count Developer Rating  \n",
       "0       76.0000       51.0000          8    322.0000  Nintendo      E  \n",
       "1           NaN           NaN        NaN         NaN       NaN    NaN  \n",
       "2       82.0000       73.0000        8.3    709.0000  Nintendo      E  \n",
       "3       80.0000       73.0000          8    192.0000  Nintendo      E  \n",
       "4           NaN           NaN        NaN         NaN       NaN    NaN  \n",
       "5           NaN           NaN        NaN         NaN       NaN    NaN  \n",
       "6       89.0000       65.0000        8.5    431.0000  Nintendo      E  \n",
       "7       58.0000       41.0000        6.6    129.0000  Nintendo      E  \n",
       "8       87.0000       80.0000        8.4    594.0000  Nintendo      E  "
      ]
     },
     "execution_count": 726,
     "metadata": {},
     "output_type": "execute_result"
    }
   ],
   "source": [
    "#show the first 9 rows\n",
    "project.head(9)"
   ]
  },
  {
   "cell_type": "code",
   "execution_count": 727,
   "id": "1c5fbe47",
   "metadata": {
    "scrolled": false
   },
   "outputs": [
    {
     "data": {
      "text/html": [
       "<div>\n",
       "<style scoped>\n",
       "    .dataframe tbody tr th:only-of-type {\n",
       "        vertical-align: middle;\n",
       "    }\n",
       "\n",
       "    .dataframe tbody tr th {\n",
       "        vertical-align: top;\n",
       "    }\n",
       "\n",
       "    .dataframe thead th {\n",
       "        text-align: right;\n",
       "    }\n",
       "</style>\n",
       "<table border=\"1\" class=\"dataframe\">\n",
       "  <thead>\n",
       "    <tr style=\"text-align: right;\">\n",
       "      <th></th>\n",
       "      <th>Name</th>\n",
       "      <th>Platform</th>\n",
       "      <th>Year_of_Release</th>\n",
       "      <th>Genre</th>\n",
       "      <th>Publisher</th>\n",
       "      <th>NA_Sales</th>\n",
       "      <th>EU_Sales</th>\n",
       "      <th>JP_Sales</th>\n",
       "      <th>Other_Sales</th>\n",
       "      <th>Global_Sales</th>\n",
       "      <th>Critic_Score</th>\n",
       "      <th>Critic_Count</th>\n",
       "      <th>User_Score</th>\n",
       "      <th>User_Count</th>\n",
       "      <th>Developer</th>\n",
       "      <th>Rating</th>\n",
       "    </tr>\n",
       "  </thead>\n",
       "  <tbody>\n",
       "    <tr>\n",
       "      <th>16714</th>\n",
       "      <td>Samurai Warriors: Sanada Maru</td>\n",
       "      <td>PS3</td>\n",
       "      <td>2016.0000</td>\n",
       "      <td>Action</td>\n",
       "      <td>Tecmo Koei</td>\n",
       "      <td>0.0000</td>\n",
       "      <td>0.0000</td>\n",
       "      <td>0.0100</td>\n",
       "      <td>0.0000</td>\n",
       "      <td>0.0100</td>\n",
       "      <td>NaN</td>\n",
       "      <td>NaN</td>\n",
       "      <td>NaN</td>\n",
       "      <td>NaN</td>\n",
       "      <td>NaN</td>\n",
       "      <td>NaN</td>\n",
       "    </tr>\n",
       "    <tr>\n",
       "      <th>16715</th>\n",
       "      <td>LMA Manager 2007</td>\n",
       "      <td>X360</td>\n",
       "      <td>2006.0000</td>\n",
       "      <td>Sports</td>\n",
       "      <td>Codemasters</td>\n",
       "      <td>0.0000</td>\n",
       "      <td>0.0100</td>\n",
       "      <td>0.0000</td>\n",
       "      <td>0.0000</td>\n",
       "      <td>0.0100</td>\n",
       "      <td>NaN</td>\n",
       "      <td>NaN</td>\n",
       "      <td>NaN</td>\n",
       "      <td>NaN</td>\n",
       "      <td>NaN</td>\n",
       "      <td>NaN</td>\n",
       "    </tr>\n",
       "    <tr>\n",
       "      <th>16716</th>\n",
       "      <td>Haitaka no Psychedelica</td>\n",
       "      <td>PSV</td>\n",
       "      <td>2016.0000</td>\n",
       "      <td>Adventure</td>\n",
       "      <td>Idea Factory</td>\n",
       "      <td>0.0000</td>\n",
       "      <td>0.0000</td>\n",
       "      <td>0.0100</td>\n",
       "      <td>0.0000</td>\n",
       "      <td>0.0100</td>\n",
       "      <td>NaN</td>\n",
       "      <td>NaN</td>\n",
       "      <td>NaN</td>\n",
       "      <td>NaN</td>\n",
       "      <td>NaN</td>\n",
       "      <td>NaN</td>\n",
       "    </tr>\n",
       "    <tr>\n",
       "      <th>16717</th>\n",
       "      <td>Spirits &amp; Spells</td>\n",
       "      <td>GBA</td>\n",
       "      <td>2003.0000</td>\n",
       "      <td>Platform</td>\n",
       "      <td>Wanadoo</td>\n",
       "      <td>0.0100</td>\n",
       "      <td>0.0000</td>\n",
       "      <td>0.0000</td>\n",
       "      <td>0.0000</td>\n",
       "      <td>0.0100</td>\n",
       "      <td>NaN</td>\n",
       "      <td>NaN</td>\n",
       "      <td>NaN</td>\n",
       "      <td>NaN</td>\n",
       "      <td>NaN</td>\n",
       "      <td>NaN</td>\n",
       "    </tr>\n",
       "    <tr>\n",
       "      <th>16718</th>\n",
       "      <td>Winning Post 8 2016</td>\n",
       "      <td>PSV</td>\n",
       "      <td>2016.0000</td>\n",
       "      <td>Simulation</td>\n",
       "      <td>Tecmo Koei</td>\n",
       "      <td>0.0000</td>\n",
       "      <td>0.0000</td>\n",
       "      <td>0.0100</td>\n",
       "      <td>0.0000</td>\n",
       "      <td>0.0100</td>\n",
       "      <td>NaN</td>\n",
       "      <td>NaN</td>\n",
       "      <td>NaN</td>\n",
       "      <td>NaN</td>\n",
       "      <td>NaN</td>\n",
       "      <td>NaN</td>\n",
       "    </tr>\n",
       "  </tbody>\n",
       "</table>\n",
       "</div>"
      ],
      "text/plain": [
       "                                Name Platform  Year_of_Release       Genre  \\\n",
       "16714  Samurai Warriors: Sanada Maru      PS3        2016.0000      Action   \n",
       "16715               LMA Manager 2007     X360        2006.0000      Sports   \n",
       "16716        Haitaka no Psychedelica      PSV        2016.0000   Adventure   \n",
       "16717               Spirits & Spells      GBA        2003.0000    Platform   \n",
       "16718            Winning Post 8 2016      PSV        2016.0000  Simulation   \n",
       "\n",
       "          Publisher  NA_Sales  EU_Sales  JP_Sales  Other_Sales  Global_Sales  \\\n",
       "16714    Tecmo Koei    0.0000    0.0000    0.0100       0.0000        0.0100   \n",
       "16715   Codemasters    0.0000    0.0100    0.0000       0.0000        0.0100   \n",
       "16716  Idea Factory    0.0000    0.0000    0.0100       0.0000        0.0100   \n",
       "16717       Wanadoo    0.0100    0.0000    0.0000       0.0000        0.0100   \n",
       "16718    Tecmo Koei    0.0000    0.0000    0.0100       0.0000        0.0100   \n",
       "\n",
       "       Critic_Score  Critic_Count User_Score  User_Count Developer Rating  \n",
       "16714           NaN           NaN        NaN         NaN       NaN    NaN  \n",
       "16715           NaN           NaN        NaN         NaN       NaN    NaN  \n",
       "16716           NaN           NaN        NaN         NaN       NaN    NaN  \n",
       "16717           NaN           NaN        NaN         NaN       NaN    NaN  \n",
       "16718           NaN           NaN        NaN         NaN       NaN    NaN  "
      ]
     },
     "execution_count": 727,
     "metadata": {},
     "output_type": "execute_result"
    }
   ],
   "source": [
    "#show the last 5 rows by default\n",
    "project.tail()"
   ]
  },
  {
   "cell_type": "code",
   "execution_count": 728,
   "id": "6502aac4",
   "metadata": {
    "scrolled": true
   },
   "outputs": [
    {
     "data": {
      "text/plain": [
       "(16719, 16)"
      ]
     },
     "execution_count": 728,
     "metadata": {},
     "output_type": "execute_result"
    }
   ],
   "source": [
    "# the numbers of rows & columns in the dataframe\n",
    "project.shape "
   ]
  },
  {
   "cell_type": "code",
   "execution_count": 729,
   "id": "5482373e",
   "metadata": {},
   "outputs": [
    {
     "data": {
      "text/plain": [
       "Index(['Name', 'Platform', 'Year_of_Release', 'Genre', 'Publisher', 'NA_Sales',\n",
       "       'EU_Sales', 'JP_Sales', 'Other_Sales', 'Global_Sales', 'Critic_Score',\n",
       "       'Critic_Count', 'User_Score', 'User_Count', 'Developer', 'Rating'],\n",
       "      dtype='object')"
      ]
     },
     "execution_count": 729,
     "metadata": {},
     "output_type": "execute_result"
    }
   ],
   "source": [
    "#shows the name of columns\n",
    "project.columns "
   ]
  },
  {
   "cell_type": "code",
   "execution_count": 730,
   "id": "99f14b90",
   "metadata": {
    "scrolled": true
   },
   "outputs": [
    {
     "name": "stdout",
     "output_type": "stream",
     "text": [
      "<class 'pandas.core.frame.DataFrame'>\n",
      "RangeIndex: 16719 entries, 0 to 16718\n",
      "Data columns (total 16 columns):\n",
      " #   Column           Non-Null Count  Dtype  \n",
      "---  ------           --------------  -----  \n",
      " 0   Name             16717 non-null  object \n",
      " 1   Platform         16719 non-null  object \n",
      " 2   Year_of_Release  16450 non-null  float64\n",
      " 3   Genre            16717 non-null  object \n",
      " 4   Publisher        16665 non-null  object \n",
      " 5   NA_Sales         16719 non-null  float64\n",
      " 6   EU_Sales         16719 non-null  float64\n",
      " 7   JP_Sales         16719 non-null  float64\n",
      " 8   Other_Sales      16719 non-null  float64\n",
      " 9   Global_Sales     16719 non-null  float64\n",
      " 10  Critic_Score     8137 non-null   float64\n",
      " 11  Critic_Count     8137 non-null   float64\n",
      " 12  User_Score       10015 non-null  object \n",
      " 13  User_Count       7590 non-null   float64\n",
      " 14  Developer        10096 non-null  object \n",
      " 15  Rating           9950 non-null   object \n",
      "dtypes: float64(9), object(7)\n",
      "memory usage: 2.0+ MB\n"
     ]
    }
   ],
   "source": [
    "#print a concise summary of a DataFrame\n",
    "project.info() "
   ]
  },
  {
   "cell_type": "code",
   "execution_count": 731,
   "id": "b5bbf97b",
   "metadata": {
    "scrolled": false
   },
   "outputs": [
    {
     "data": {
      "text/html": [
       "<div>\n",
       "<style scoped>\n",
       "    .dataframe tbody tr th:only-of-type {\n",
       "        vertical-align: middle;\n",
       "    }\n",
       "\n",
       "    .dataframe tbody tr th {\n",
       "        vertical-align: top;\n",
       "    }\n",
       "\n",
       "    .dataframe thead th {\n",
       "        text-align: right;\n",
       "    }\n",
       "</style>\n",
       "<table border=\"1\" class=\"dataframe\">\n",
       "  <thead>\n",
       "    <tr style=\"text-align: right;\">\n",
       "      <th></th>\n",
       "      <th>Year_of_Release</th>\n",
       "      <th>NA_Sales</th>\n",
       "      <th>EU_Sales</th>\n",
       "      <th>JP_Sales</th>\n",
       "      <th>Other_Sales</th>\n",
       "      <th>Global_Sales</th>\n",
       "      <th>Critic_Score</th>\n",
       "      <th>Critic_Count</th>\n",
       "      <th>User_Count</th>\n",
       "    </tr>\n",
       "  </thead>\n",
       "  <tbody>\n",
       "    <tr>\n",
       "      <th>count</th>\n",
       "      <td>16450.0000</td>\n",
       "      <td>16719.0000</td>\n",
       "      <td>16719.0000</td>\n",
       "      <td>16719.0000</td>\n",
       "      <td>16719.0000</td>\n",
       "      <td>16719.0000</td>\n",
       "      <td>8137.0000</td>\n",
       "      <td>8137.0000</td>\n",
       "      <td>7590.0000</td>\n",
       "    </tr>\n",
       "    <tr>\n",
       "      <th>mean</th>\n",
       "      <td>2006.4874</td>\n",
       "      <td>0.2633</td>\n",
       "      <td>0.1450</td>\n",
       "      <td>0.0776</td>\n",
       "      <td>0.0473</td>\n",
       "      <td>0.5335</td>\n",
       "      <td>68.9677</td>\n",
       "      <td>26.3608</td>\n",
       "      <td>162.2299</td>\n",
       "    </tr>\n",
       "    <tr>\n",
       "      <th>std</th>\n",
       "      <td>5.8790</td>\n",
       "      <td>0.8135</td>\n",
       "      <td>0.5033</td>\n",
       "      <td>0.3088</td>\n",
       "      <td>0.1867</td>\n",
       "      <td>1.5479</td>\n",
       "      <td>13.9382</td>\n",
       "      <td>18.9805</td>\n",
       "      <td>561.2823</td>\n",
       "    </tr>\n",
       "    <tr>\n",
       "      <th>min</th>\n",
       "      <td>1980.0000</td>\n",
       "      <td>0.0000</td>\n",
       "      <td>0.0000</td>\n",
       "      <td>0.0000</td>\n",
       "      <td>0.0000</td>\n",
       "      <td>0.0100</td>\n",
       "      <td>13.0000</td>\n",
       "      <td>3.0000</td>\n",
       "      <td>4.0000</td>\n",
       "    </tr>\n",
       "    <tr>\n",
       "      <th>25%</th>\n",
       "      <td>2003.0000</td>\n",
       "      <td>0.0000</td>\n",
       "      <td>0.0000</td>\n",
       "      <td>0.0000</td>\n",
       "      <td>0.0000</td>\n",
       "      <td>0.0600</td>\n",
       "      <td>60.0000</td>\n",
       "      <td>12.0000</td>\n",
       "      <td>10.0000</td>\n",
       "    </tr>\n",
       "    <tr>\n",
       "      <th>50%</th>\n",
       "      <td>2007.0000</td>\n",
       "      <td>0.0800</td>\n",
       "      <td>0.0200</td>\n",
       "      <td>0.0000</td>\n",
       "      <td>0.0100</td>\n",
       "      <td>0.1700</td>\n",
       "      <td>71.0000</td>\n",
       "      <td>21.0000</td>\n",
       "      <td>24.0000</td>\n",
       "    </tr>\n",
       "    <tr>\n",
       "      <th>75%</th>\n",
       "      <td>2010.0000</td>\n",
       "      <td>0.2400</td>\n",
       "      <td>0.1100</td>\n",
       "      <td>0.0400</td>\n",
       "      <td>0.0300</td>\n",
       "      <td>0.4700</td>\n",
       "      <td>79.0000</td>\n",
       "      <td>36.0000</td>\n",
       "      <td>81.0000</td>\n",
       "    </tr>\n",
       "    <tr>\n",
       "      <th>max</th>\n",
       "      <td>2020.0000</td>\n",
       "      <td>41.3600</td>\n",
       "      <td>28.9600</td>\n",
       "      <td>10.2200</td>\n",
       "      <td>10.5700</td>\n",
       "      <td>82.5300</td>\n",
       "      <td>98.0000</td>\n",
       "      <td>113.0000</td>\n",
       "      <td>10665.0000</td>\n",
       "    </tr>\n",
       "  </tbody>\n",
       "</table>\n",
       "</div>"
      ],
      "text/plain": [
       "       Year_of_Release   NA_Sales   EU_Sales   JP_Sales  Other_Sales  \\\n",
       "count       16450.0000 16719.0000 16719.0000 16719.0000   16719.0000   \n",
       "mean         2006.4874     0.2633     0.1450     0.0776       0.0473   \n",
       "std             5.8790     0.8135     0.5033     0.3088       0.1867   \n",
       "min          1980.0000     0.0000     0.0000     0.0000       0.0000   \n",
       "25%          2003.0000     0.0000     0.0000     0.0000       0.0000   \n",
       "50%          2007.0000     0.0800     0.0200     0.0000       0.0100   \n",
       "75%          2010.0000     0.2400     0.1100     0.0400       0.0300   \n",
       "max          2020.0000    41.3600    28.9600    10.2200      10.5700   \n",
       "\n",
       "       Global_Sales  Critic_Score  Critic_Count  User_Count  \n",
       "count    16719.0000     8137.0000     8137.0000   7590.0000  \n",
       "mean         0.5335       68.9677       26.3608    162.2299  \n",
       "std          1.5479       13.9382       18.9805    561.2823  \n",
       "min          0.0100       13.0000        3.0000      4.0000  \n",
       "25%          0.0600       60.0000       12.0000     10.0000  \n",
       "50%          0.1700       71.0000       21.0000     24.0000  \n",
       "75%          0.4700       79.0000       36.0000     81.0000  \n",
       "max         82.5300       98.0000      113.0000  10665.0000  "
      ]
     },
     "execution_count": 731,
     "metadata": {},
     "output_type": "execute_result"
    }
   ],
   "source": [
    "#used to view some basic statistical details.\n",
    "project.describe() "
   ]
  },
  {
   "cell_type": "code",
   "execution_count": 732,
   "id": "0fb1e3ed",
   "metadata": {},
   "outputs": [
    {
     "data": {
      "text/plain": [
       "array([3.770e+00, 6.810e+00, 3.790e+00, 3.280e+00, 1.022e+01, 4.220e+00,\n",
       "       6.500e+00, 2.930e+00, 4.700e+00, 2.800e-01, 1.930e+00, 4.130e+00,\n",
       "       7.200e+00, 3.600e+00, 2.400e-01, 2.530e+00, 9.800e-01, 4.100e-01,\n",
       "       3.540e+00, 4.160e+00, 6.040e+00, 4.180e+00, 3.840e+00, 6.000e-02,\n",
       "       4.700e-01, 5.380e+00, 5.320e+00, 5.650e+00, 1.870e+00, 1.300e-01,\n",
       "       3.120e+00, 3.600e-01, 1.100e-01, 4.350e+00, 6.500e-01, 7.000e-02,\n",
       "       8.000e-02, 4.900e-01, 3.000e-01, 2.660e+00, 2.690e+00, 4.800e-01,\n",
       "       3.800e-01, 5.330e+00, 1.910e+00, 3.960e+00, 3.100e+00, 1.100e+00,\n",
       "       1.200e+00, 1.400e-01, 2.540e+00, 2.140e+00, 8.100e-01, 2.120e+00,\n",
       "       4.400e-01, 3.150e+00, 1.250e+00, 4.000e-02, 0.000e+00, 2.470e+00,\n",
       "       2.230e+00, 1.690e+00, 1.000e-02, 3.000e+00, 2.000e-02, 4.390e+00,\n",
       "       1.980e+00, 1.000e-01, 3.810e+00, 5.000e-02, 2.490e+00, 1.580e+00,\n",
       "       3.140e+00, 2.730e+00, 6.600e-01, 2.200e-01, 3.630e+00, 1.450e+00,\n",
       "       1.310e+00, 2.430e+00, 7.000e-01, 3.500e-01, 1.400e+00, 6.000e-01,\n",
       "       2.260e+00, 1.420e+00, 1.280e+00, 1.390e+00, 8.700e-01, 1.700e-01,\n",
       "       9.400e-01, 1.900e-01, 2.100e-01, 1.600e+00, 1.600e-01, 1.030e+00,\n",
       "       2.500e-01, 2.060e+00, 1.490e+00, 1.290e+00, 9.000e-02, 2.870e+00,\n",
       "       3.000e-02, 7.800e-01, 8.300e-01, 2.330e+00, 2.020e+00, 1.360e+00,\n",
       "       1.810e+00, 1.970e+00, 9.100e-01, 9.900e-01, 9.500e-01, 2.000e+00,\n",
       "       1.010e+00, 2.780e+00, 2.110e+00, 1.090e+00, 2.000e-01, 1.900e+00,\n",
       "       1.270e+00, 3.610e+00, 1.570e+00, 2.200e+00, 1.700e+00, 1.080e+00,\n",
       "       1.500e-01, 1.110e+00, 2.900e-01, 1.540e+00, 1.200e-01, 8.900e-01,\n",
       "       4.870e+00, 1.520e+00, 1.320e+00, 1.150e+00, 4.100e+00, 1.460e+00,\n",
       "       4.600e-01, 1.050e+00, 1.610e+00, 2.600e-01, 1.380e+00, 6.200e-01,\n",
       "       7.300e-01, 5.700e-01, 3.100e-01, 5.800e-01, 1.760e+00, 2.100e+00,\n",
       "       9.000e-01, 5.100e-01, 6.400e-01, 2.460e+00, 2.300e-01, 3.700e-01,\n",
       "       9.200e-01, 1.070e+00, 2.620e+00, 1.120e+00, 5.400e-01, 2.700e-01,\n",
       "       5.900e-01, 3.670e+00, 5.500e-01, 1.750e+00, 3.440e+00, 3.300e-01,\n",
       "       2.550e+00, 2.320e+00, 2.790e+00, 7.400e-01, 3.180e+00, 8.200e-01,\n",
       "       7.700e-01, 4.000e-01, 2.350e+00, 3.190e+00, 8.000e-01, 7.600e-01,\n",
       "       3.030e+00, 8.800e-01, 4.500e-01, 1.160e+00, 3.400e-01, 1.190e+00,\n",
       "       1.130e+00, 2.130e+00, 1.960e+00, 7.100e-01, 1.040e+00, 2.680e+00,\n",
       "       6.800e-01, 2.650e+00, 9.600e-01, 2.410e+00, 5.200e-01, 1.800e-01,\n",
       "       1.340e+00, 1.480e+00, 2.340e+00, 1.060e+00, 1.210e+00, 2.290e+00,\n",
       "       1.630e+00, 2.050e+00, 2.170e+00, 1.560e+00, 1.350e+00, 1.330e+00,\n",
       "       6.300e-01, 7.900e-01, 7.500e-01, 5.300e-01, 1.530e+00, 1.300e+00,\n",
       "       3.900e-01, 6.900e-01, 4.200e-01, 9.300e-01, 5.600e-01, 8.400e-01,\n",
       "       7.200e-01, 3.200e-01, 1.710e+00, 1.650e+00, 6.100e-01, 1.510e+00,\n",
       "       1.500e+00, 1.440e+00, 1.240e+00, 1.180e+00, 1.370e+00, 1.000e+00,\n",
       "       1.260e+00, 8.500e-01, 4.300e-01, 6.700e-01, 1.140e+00, 8.600e-01,\n",
       "       1.170e+00, 5.000e-01, 1.020e+00, 9.700e-01])"
      ]
     },
     "execution_count": 732,
     "metadata": {},
     "output_type": "execute_result"
    }
   ],
   "source": [
    "#are returned in order of appearance\n",
    "project.JP_Sales.unique()"
   ]
  },
  {
   "cell_type": "code",
   "execution_count": 733,
   "id": "3d1ff3e2",
   "metadata": {
    "scrolled": true
   },
   "outputs": [
    {
     "data": {
      "text/plain": [
       "count   16719.0000\n",
       "mean        0.5335\n",
       "std         1.5479\n",
       "min         0.0100\n",
       "25%         0.0600\n",
       "50%         0.1700\n",
       "75%         0.4700\n",
       "max        82.5300\n",
       "Name: Global_Sales, dtype: float64"
      ]
     },
     "execution_count": 733,
     "metadata": {},
     "output_type": "execute_result"
    }
   ],
   "source": [
    "#to describe specific column\n",
    "project.Global_Sales.describe() "
   ]
  },
  {
   "cell_type": "code",
   "execution_count": 734,
   "id": "887ce71e",
   "metadata": {
    "scrolled": true
   },
   "outputs": [
    {
     "data": {
      "text/plain": [
       "Name                  2\n",
       "Platform              0\n",
       "Year_of_Release     269\n",
       "Genre                 2\n",
       "Publisher            54\n",
       "NA_Sales              0\n",
       "EU_Sales              0\n",
       "JP_Sales              0\n",
       "Other_Sales           0\n",
       "Global_Sales          0\n",
       "Critic_Score       8582\n",
       "Critic_Count       8582\n",
       "User_Score         6704\n",
       "User_Count         9129\n",
       "Developer          6623\n",
       "Rating             6769\n",
       "dtype: int64"
      ]
     },
     "execution_count": 734,
     "metadata": {},
     "output_type": "execute_result"
    }
   ],
   "source": [
    "#find sum of null values\n",
    "project.isna().sum()"
   ]
  },
  {
   "cell_type": "markdown",
   "id": "70d7cddb",
   "metadata": {},
   "source": [
    "### After I read data and know certain informations about each columns i will start to clean the Dataset.\n",
    "$\\;\\;\\;\\;\\;\\;$\n",
    "$\\;\\;\\;\\;\\;\\;$\n",
    "$\\;\\;\\;\\;\\;\\;$"
   ]
  },
  {
   "cell_type": "code",
   "execution_count": 735,
   "id": "eeb0655c",
   "metadata": {
    "scrolled": true
   },
   "outputs": [
    {
     "data": {
      "text/plain": [
       "E       3991\n",
       "T       2961\n",
       "M       1563\n",
       "E10+    1420\n",
       "EC         8\n",
       "K-A        3\n",
       "RP         3\n",
       "AO         1\n",
       "Name: Rating, dtype: int64"
      ]
     },
     "execution_count": 735,
     "metadata": {},
     "output_type": "execute_result"
    }
   ],
   "source": [
    "#Return the counts of values in a Series.\n",
    "project.Rating.value_counts()"
   ]
  },
  {
   "cell_type": "code",
   "execution_count": 736,
   "id": "3bcf520a",
   "metadata": {},
   "outputs": [],
   "source": [
    "#Replace NULL values with a value\n",
    "project.Rating.fillna('E',inplace=True) "
   ]
  },
  {
   "cell_type": "code",
   "execution_count": 737,
   "id": "dc8f1b77",
   "metadata": {},
   "outputs": [
    {
     "data": {
      "text/plain": [
       "0"
      ]
     },
     "execution_count": 737,
     "metadata": {},
     "output_type": "execute_result"
    }
   ],
   "source": [
    "#check nulls\n",
    "project.Rating.isna().sum() "
   ]
  },
  {
   "cell_type": "code",
   "execution_count": 738,
   "id": "0b691371",
   "metadata": {},
   "outputs": [],
   "source": [
    "project.dropna(subset=['Publisher'],inplace=True) #drob null values by rows"
   ]
  },
  {
   "cell_type": "code",
   "execution_count": 739,
   "id": "2d15ecab",
   "metadata": {},
   "outputs": [],
   "source": [
    "project.dropna(subset=['Name'],inplace=True) #drob null values by rows"
   ]
  },
  {
   "cell_type": "code",
   "execution_count": 740,
   "id": "a5f837a9",
   "metadata": {},
   "outputs": [],
   "source": [
    "project.dropna(subset=['Year_of_Release'],inplace=True)  #drob null values by rows"
   ]
  },
  {
   "cell_type": "code",
   "execution_count": 741,
   "id": "1fc03125",
   "metadata": {},
   "outputs": [],
   "source": [
    "project.dropna(subset=['Developer'],inplace=True)  #drob null values by rows"
   ]
  },
  {
   "cell_type": "code",
   "execution_count": 742,
   "id": "d58a04dc",
   "metadata": {},
   "outputs": [],
   "source": [
    "project.dropna(subset=['Genre'],inplace=True) #drob null values by rows"
   ]
  },
  {
   "cell_type": "code",
   "execution_count": 743,
   "id": "0d5699c7",
   "metadata": {},
   "outputs": [],
   "source": [
    "project.dropna(subset=['User_Score'],inplace=True) #drob null values by rows"
   ]
  },
  {
   "cell_type": "code",
   "execution_count": 744,
   "id": "855fb1da",
   "metadata": {},
   "outputs": [],
   "source": [
    "project.dropna(subset=['Critic_Score'],inplace=True) #drob null values by rows"
   ]
  },
  {
   "cell_type": "code",
   "execution_count": 745,
   "id": "a8902a8f",
   "metadata": {},
   "outputs": [],
   "source": [
    "project.drop(['Critic_Count','User_Count','Developer','Other_Sales'], axis='columns', inplace=True)#drob unnecessary columns"
   ]
  },
  {
   "cell_type": "code",
   "execution_count": 746,
   "id": "e18097ee",
   "metadata": {},
   "outputs": [],
   "source": [
    "project.Critic_Score=project.Critic_Score.astype('int16')"
   ]
  },
  {
   "cell_type": "code",
   "execution_count": 747,
   "id": "4924041e",
   "metadata": {
    "scrolled": true
   },
   "outputs": [
    {
     "data": {
      "text/plain": [
       "Name               0\n",
       "Platform           0\n",
       "Year_of_Release    0\n",
       "Genre              0\n",
       "Publisher          0\n",
       "NA_Sales           0\n",
       "EU_Sales           0\n",
       "JP_Sales           0\n",
       "Global_Sales       0\n",
       "Critic_Score       0\n",
       "User_Score         0\n",
       "Rating             0\n",
       "dtype: int64"
      ]
     },
     "execution_count": 747,
     "metadata": {},
     "output_type": "execute_result"
    }
   ],
   "source": [
    "project.isna().sum() "
   ]
  },
  {
   "cell_type": "code",
   "execution_count": 748,
   "id": "bf1ee6c2",
   "metadata": {
    "scrolled": true
   },
   "outputs": [
    {
     "data": {
      "text/html": [
       "<div>\n",
       "<style scoped>\n",
       "    .dataframe tbody tr th:only-of-type {\n",
       "        vertical-align: middle;\n",
       "    }\n",
       "\n",
       "    .dataframe tbody tr th {\n",
       "        vertical-align: top;\n",
       "    }\n",
       "\n",
       "    .dataframe thead th {\n",
       "        text-align: right;\n",
       "    }\n",
       "</style>\n",
       "<table border=\"1\" class=\"dataframe\">\n",
       "  <thead>\n",
       "    <tr style=\"text-align: right;\">\n",
       "      <th></th>\n",
       "      <th>Name</th>\n",
       "      <th>Platform</th>\n",
       "      <th>Year_of_Release</th>\n",
       "      <th>Genre</th>\n",
       "      <th>Publisher</th>\n",
       "      <th>NA_Sales</th>\n",
       "      <th>EU_Sales</th>\n",
       "      <th>JP_Sales</th>\n",
       "      <th>Global_Sales</th>\n",
       "      <th>Critic_Score</th>\n",
       "      <th>User_Score</th>\n",
       "      <th>Rating</th>\n",
       "    </tr>\n",
       "  </thead>\n",
       "  <tbody>\n",
       "    <tr>\n",
       "      <th>0</th>\n",
       "      <td>Wii Sports</td>\n",
       "      <td>Wii</td>\n",
       "      <td>2006.0000</td>\n",
       "      <td>Sports</td>\n",
       "      <td>Nintendo</td>\n",
       "      <td>41.3600</td>\n",
       "      <td>28.9600</td>\n",
       "      <td>3.7700</td>\n",
       "      <td>82.5300</td>\n",
       "      <td>76</td>\n",
       "      <td>8</td>\n",
       "      <td>E</td>\n",
       "    </tr>\n",
       "    <tr>\n",
       "      <th>2</th>\n",
       "      <td>Mario Kart Wii</td>\n",
       "      <td>Wii</td>\n",
       "      <td>2008.0000</td>\n",
       "      <td>Racing</td>\n",
       "      <td>Nintendo</td>\n",
       "      <td>15.6800</td>\n",
       "      <td>12.7600</td>\n",
       "      <td>3.7900</td>\n",
       "      <td>35.5200</td>\n",
       "      <td>82</td>\n",
       "      <td>8.3</td>\n",
       "      <td>E</td>\n",
       "    </tr>\n",
       "    <tr>\n",
       "      <th>3</th>\n",
       "      <td>Wii Sports Resort</td>\n",
       "      <td>Wii</td>\n",
       "      <td>2009.0000</td>\n",
       "      <td>Sports</td>\n",
       "      <td>Nintendo</td>\n",
       "      <td>15.6100</td>\n",
       "      <td>10.9300</td>\n",
       "      <td>3.2800</td>\n",
       "      <td>32.7700</td>\n",
       "      <td>80</td>\n",
       "      <td>8</td>\n",
       "      <td>E</td>\n",
       "    </tr>\n",
       "    <tr>\n",
       "      <th>6</th>\n",
       "      <td>New Super Mario Bros.</td>\n",
       "      <td>DS</td>\n",
       "      <td>2006.0000</td>\n",
       "      <td>Platform</td>\n",
       "      <td>Nintendo</td>\n",
       "      <td>11.2800</td>\n",
       "      <td>9.1400</td>\n",
       "      <td>6.5000</td>\n",
       "      <td>29.8000</td>\n",
       "      <td>89</td>\n",
       "      <td>8.5</td>\n",
       "      <td>E</td>\n",
       "    </tr>\n",
       "    <tr>\n",
       "      <th>7</th>\n",
       "      <td>Wii Play</td>\n",
       "      <td>Wii</td>\n",
       "      <td>2006.0000</td>\n",
       "      <td>Misc</td>\n",
       "      <td>Nintendo</td>\n",
       "      <td>13.9600</td>\n",
       "      <td>9.1800</td>\n",
       "      <td>2.9300</td>\n",
       "      <td>28.9200</td>\n",
       "      <td>58</td>\n",
       "      <td>6.6</td>\n",
       "      <td>E</td>\n",
       "    </tr>\n",
       "  </tbody>\n",
       "</table>\n",
       "</div>"
      ],
      "text/plain": [
       "                    Name Platform  Year_of_Release     Genre Publisher  \\\n",
       "0             Wii Sports      Wii        2006.0000    Sports  Nintendo   \n",
       "2         Mario Kart Wii      Wii        2008.0000    Racing  Nintendo   \n",
       "3      Wii Sports Resort      Wii        2009.0000    Sports  Nintendo   \n",
       "6  New Super Mario Bros.       DS        2006.0000  Platform  Nintendo   \n",
       "7               Wii Play      Wii        2006.0000      Misc  Nintendo   \n",
       "\n",
       "   NA_Sales  EU_Sales  JP_Sales  Global_Sales  Critic_Score User_Score Rating  \n",
       "0   41.3600   28.9600    3.7700       82.5300            76          8      E  \n",
       "2   15.6800   12.7600    3.7900       35.5200            82        8.3      E  \n",
       "3   15.6100   10.9300    3.2800       32.7700            80          8      E  \n",
       "6   11.2800    9.1400    6.5000       29.8000            89        8.5      E  \n",
       "7   13.9600    9.1800    2.9300       28.9200            58        6.6      E  "
      ]
     },
     "execution_count": 748,
     "metadata": {},
     "output_type": "execute_result"
    }
   ],
   "source": [
    "project.head()"
   ]
  },
  {
   "cell_type": "code",
   "execution_count": 749,
   "id": "0be712e4",
   "metadata": {},
   "outputs": [
    {
     "data": {
      "text/plain": [
       "2016.0"
      ]
     },
     "execution_count": 749,
     "metadata": {},
     "output_type": "execute_result"
    }
   ],
   "source": [
    "project.Year_of_Release.max() # find the Range years of the data set"
   ]
  },
  {
   "cell_type": "code",
   "execution_count": 750,
   "id": "4955884c",
   "metadata": {},
   "outputs": [
    {
     "data": {
      "text/plain": [
       "1985.0"
      ]
     },
     "execution_count": 750,
     "metadata": {},
     "output_type": "execute_result"
    }
   ],
   "source": [
    "project.Year_of_Release.min() # find the Range years of the data set"
   ]
  },
  {
   "cell_type": "markdown",
   "id": "e91e98ac",
   "metadata": {},
   "source": [
    "#### This Dataset Define games From 1985 - 2016\n",
    "$\\;\\;\\;\\;\\;\\;$\n",
    "$\\;\\;\\;\\;\\;\\;$\n"
   ]
  },
  {
   "cell_type": "markdown",
   "id": "e1b47996",
   "metadata": {},
   "source": [
    "# OBJECT of analysis start answer the questions:\n",
    "$\\;\\;\\;\\;\\;\\;$\n",
    "$\\;\\;\\;\\;\\;\\;$\n",
    "$\\;\\;\\;\\;\\;\\;$\n",
    "$\\;\\;\\;\\;\\;\\;$"
   ]
  },
  {
   "cell_type": "markdown",
   "id": "b380a009",
   "metadata": {},
   "source": [
    "## Q1. Are the rating of Critics and Users Score affect the sales? \n",
    "$\\;\\;\\;\\;\\;\\;$"
   ]
  },
  {
   "cell_type": "code",
   "execution_count": 751,
   "id": "884b01b9",
   "metadata": {},
   "outputs": [],
   "source": [
    "y=project.groupby(['User_Score','Critic_Score'])[['Global_Sales']].sum().sort_values('Global_Sales',ascending=False).iloc[0:70].sort_values('User_Score',ascending=True)"
   ]
  },
  {
   "cell_type": "code",
   "execution_count": 752,
   "id": "dfe57315",
   "metadata": {},
   "outputs": [],
   "source": [
    "y=y.reset_index()"
   ]
  },
  {
   "cell_type": "code",
   "execution_count": 753,
   "id": "a5904ab6",
   "metadata": {},
   "outputs": [
    {
     "data": {
      "text/html": [
       "<div>\n",
       "<style scoped>\n",
       "    .dataframe tbody tr th:only-of-type {\n",
       "        vertical-align: middle;\n",
       "    }\n",
       "\n",
       "    .dataframe tbody tr th {\n",
       "        vertical-align: top;\n",
       "    }\n",
       "\n",
       "    .dataframe thead th {\n",
       "        text-align: right;\n",
       "    }\n",
       "</style>\n",
       "<table border=\"1\" class=\"dataframe\">\n",
       "  <thead>\n",
       "    <tr style=\"text-align: right;\">\n",
       "      <th></th>\n",
       "      <th>User_Score</th>\n",
       "      <th>Critic_Score</th>\n",
       "      <th>Global_Sales</th>\n",
       "    </tr>\n",
       "  </thead>\n",
       "  <tbody>\n",
       "    <tr>\n",
       "      <th>0</th>\n",
       "      <td>3.2</td>\n",
       "      <td>88</td>\n",
       "      <td>13.3200</td>\n",
       "    </tr>\n",
       "    <tr>\n",
       "      <th>1</th>\n",
       "      <td>3.4</td>\n",
       "      <td>88</td>\n",
       "      <td>14.7300</td>\n",
       "    </tr>\n",
       "    <tr>\n",
       "      <th>2</th>\n",
       "      <td>4.8</td>\n",
       "      <td>83</td>\n",
       "      <td>13.6700</td>\n",
       "    </tr>\n",
       "    <tr>\n",
       "      <th>3</th>\n",
       "      <td>5.3</td>\n",
       "      <td>83</td>\n",
       "      <td>14.8100</td>\n",
       "    </tr>\n",
       "    <tr>\n",
       "      <th>4</th>\n",
       "      <td>6.3</td>\n",
       "      <td>61</td>\n",
       "      <td>21.8100</td>\n",
       "    </tr>\n",
       "  </tbody>\n",
       "</table>\n",
       "</div>"
      ],
      "text/plain": [
       "  User_Score  Critic_Score  Global_Sales\n",
       "0        3.2            88       13.3200\n",
       "1        3.4            88       14.7300\n",
       "2        4.8            83       13.6700\n",
       "3        5.3            83       14.8100\n",
       "4        6.3            61       21.8100"
      ]
     },
     "execution_count": 753,
     "metadata": {},
     "output_type": "execute_result"
    }
   ],
   "source": [
    "y.head()"
   ]
  },
  {
   "cell_type": "code",
   "execution_count": 754,
   "id": "38162186",
   "metadata": {},
   "outputs": [
    {
     "data": {
      "text/plain": [
       "Index(['User_Score', 'Critic_Score', 'Global_Sales'], dtype='object')"
      ]
     },
     "execution_count": 754,
     "metadata": {},
     "output_type": "execute_result"
    }
   ],
   "source": [
    "#start with find the Relationship User_Score:\n",
    "y.columns"
   ]
  },
  {
   "cell_type": "code",
   "execution_count": 755,
   "id": "76bd0075",
   "metadata": {
    "scrolled": true
   },
   "outputs": [
    {
     "data": {
      "image/png": "[encoded data removed]",
      "text/plain": [
       "<Figure size 720x432 with 1 Axes>"
      ]
     },
     "metadata": {
      "needs_background": "light"
     },
     "output_type": "display_data"
    }
   ],
   "source": [
    "#plt visualization formats\n",
    "plt.scatter(y.User_Score,y.Global_Sales,marker = '.',color='black',s = 100, alpha = 0.5)\n",
    "plt.xticks(rotation =90);\n",
    "plt.title('Relationship curve',family='serif',fontsize = 22,pad=30,color='#556B2F');\n",
    "plt.xlabel('User Score',fontsize = 10,color='#556B2F');\n",
    "plt.ylabel('Global Sales in M',fontsize = 10, color='#556B2F');\n",
    "plt.rcParams[\"figure.figsize\"] = [7,3]\n",
    "plt.grid()\n",
    "plt.savefig('imageq1.png')"
   ]
  },
  {
   "cell_type": "code",
   "execution_count": 756,
   "id": "8538ea72",
   "metadata": {},
   "outputs": [],
   "source": [
    "x=project.groupby(['User_Score','Critic_Score'])[['Global_Sales']].sum().sort_values('Global_Sales',ascending=False).iloc[0:200]"
   ]
  },
  {
   "cell_type": "code",
   "execution_count": 757,
   "id": "481abe78",
   "metadata": {},
   "outputs": [],
   "source": [
    "#then find the Relationship Critic_Score:\n",
    "x=x.reset_index()"
   ]
  },
  {
   "cell_type": "code",
   "execution_count": 758,
   "id": "6a2a1328",
   "metadata": {},
   "outputs": [
    {
     "data": {
      "text/html": [
       "<div>\n",
       "<style scoped>\n",
       "    .dataframe tbody tr th:only-of-type {\n",
       "        vertical-align: middle;\n",
       "    }\n",
       "\n",
       "    .dataframe tbody tr th {\n",
       "        vertical-align: top;\n",
       "    }\n",
       "\n",
       "    .dataframe thead th {\n",
       "        text-align: right;\n",
       "    }\n",
       "</style>\n",
       "<table border=\"1\" class=\"dataframe\">\n",
       "  <thead>\n",
       "    <tr style=\"text-align: right;\">\n",
       "      <th></th>\n",
       "      <th>User_Score</th>\n",
       "      <th>Critic_Score</th>\n",
       "      <th>Global_Sales</th>\n",
       "    </tr>\n",
       "  </thead>\n",
       "  <tbody>\n",
       "    <tr>\n",
       "      <th>0</th>\n",
       "      <td>8</td>\n",
       "      <td>76</td>\n",
       "      <td>87.1000</td>\n",
       "    </tr>\n",
       "    <tr>\n",
       "      <th>1</th>\n",
       "      <td>8.5</td>\n",
       "      <td>89</td>\n",
       "      <td>46.4600</td>\n",
       "    </tr>\n",
       "    <tr>\n",
       "      <th>2</th>\n",
       "      <td>8.6</td>\n",
       "      <td>91</td>\n",
       "      <td>42.6300</td>\n",
       "    </tr>\n",
       "    <tr>\n",
       "      <th>3</th>\n",
       "      <td>8.3</td>\n",
       "      <td>82</td>\n",
       "      <td>37.7800</td>\n",
       "    </tr>\n",
       "    <tr>\n",
       "      <th>4</th>\n",
       "      <td>8</td>\n",
       "      <td>80</td>\n",
       "      <td>36.5700</td>\n",
       "    </tr>\n",
       "  </tbody>\n",
       "</table>\n",
       "</div>"
      ],
      "text/plain": [
       "  User_Score  Critic_Score  Global_Sales\n",
       "0          8            76       87.1000\n",
       "1        8.5            89       46.4600\n",
       "2        8.6            91       42.6300\n",
       "3        8.3            82       37.7800\n",
       "4          8            80       36.5700"
      ]
     },
     "execution_count": 758,
     "metadata": {},
     "output_type": "execute_result"
    }
   ],
   "source": [
    "x.head()"
   ]
  },
  {
   "cell_type": "code",
   "execution_count": 759,
   "id": "444e2c0e",
   "metadata": {},
   "outputs": [
    {
     "data": {
      "image/png": "[encoded data removed]",
      "text/plain": [
       "<Figure size 504x216 with 1 Axes>"
      ]
     },
     "metadata": {
      "needs_background": "light"
     },
     "output_type": "display_data"
    }
   ],
   "source": [
    "#plt visualization formats\n",
    "plt.scatter(x.Critic_Score,x.Global_Sales,marker = '.',color='black',s = 100, alpha = 0.5)\n",
    "plt.xticks(rotation =90);\n",
    "plt.title('Relationship curve',family='serif',fontsize = 22,pad=30,color='#556B2F');\n",
    "plt.xlabel('Critic Score',fontsize = 10,color='#556B2F');\n",
    "plt.ylabel('Global Sales in M',fontsize = 10, color='#556B2F');\n",
    "plt.rcParams[\"figure.figsize\"] = [7,3]\n",
    "plt.grid()\n",
    "plt.savefig('imageq1.2.png')"
   ]
  },
  {
   "cell_type": "markdown",
   "id": "562a42b4",
   "metadata": {},
   "source": [
    "#### Based on previous curves; \n",
    "we can say there is no real relationship between the critic and users score on sales over the world,so we can reduse the Financial investments in that field for now and focusing on other factors that affect directly to the sales. And I suggest\n",
    "to work with a new sample of critic and users score with detailed behaviors, which helps to understand the gaps and try to make a good improvement plans for this part of gamers community.\n",
    "$\\;\\;\\;\\;\\;\\;$\n",
    "$\\;\\;\\;\\;\\;\\;$\n",
    "$\\;\\;\\;\\;\\;\\;$\n",
    "$\\;\\;\\;\\;\\;\\;$\n"
   ]
  },
  {
   "cell_type": "markdown",
   "id": "375783ba",
   "metadata": {},
   "source": [
    "## Q2. What is the most widely Genre on each platform?\n",
    "$\\;\\;\\;\\;\\;\\;$"
   ]
  },
  {
   "cell_type": "code",
   "execution_count": 760,
   "id": "81c90a80",
   "metadata": {
    "scrolled": false
   },
   "outputs": [
    {
     "data": {
      "text/html": [
       "<div>\n",
       "<style scoped>\n",
       "    .dataframe tbody tr th:only-of-type {\n",
       "        vertical-align: middle;\n",
       "    }\n",
       "\n",
       "    .dataframe tbody tr th {\n",
       "        vertical-align: top;\n",
       "    }\n",
       "\n",
       "    .dataframe thead th {\n",
       "        text-align: right;\n",
       "    }\n",
       "</style>\n",
       "<table border=\"1\" class=\"dataframe\">\n",
       "  <thead>\n",
       "    <tr style=\"text-align: right;\">\n",
       "      <th></th>\n",
       "      <th>Genre</th>\n",
       "    </tr>\n",
       "    <tr>\n",
       "      <th>Platform</th>\n",
       "      <th></th>\n",
       "    </tr>\n",
       "  </thead>\n",
       "  <tbody>\n",
       "    <tr>\n",
       "      <th>3DS</th>\n",
       "      <td>Strategy</td>\n",
       "    </tr>\n",
       "    <tr>\n",
       "      <th>DC</th>\n",
       "      <td>Sports</td>\n",
       "    </tr>\n",
       "    <tr>\n",
       "      <th>DS</th>\n",
       "      <td>Strategy</td>\n",
       "    </tr>\n",
       "    <tr>\n",
       "      <th>GBA</th>\n",
       "      <td>Strategy</td>\n",
       "    </tr>\n",
       "    <tr>\n",
       "      <th>GC</th>\n",
       "      <td>Strategy</td>\n",
       "    </tr>\n",
       "    <tr>\n",
       "      <th>PC</th>\n",
       "      <td>Strategy</td>\n",
       "    </tr>\n",
       "    <tr>\n",
       "      <th>PS</th>\n",
       "      <td>Strategy</td>\n",
       "    </tr>\n",
       "    <tr>\n",
       "      <th>PS2</th>\n",
       "      <td>Strategy</td>\n",
       "    </tr>\n",
       "    <tr>\n",
       "      <th>PS3</th>\n",
       "      <td>Strategy</td>\n",
       "    </tr>\n",
       "    <tr>\n",
       "      <th>PS4</th>\n",
       "      <td>Strategy</td>\n",
       "    </tr>\n",
       "    <tr>\n",
       "      <th>PSP</th>\n",
       "      <td>Strategy</td>\n",
       "    </tr>\n",
       "    <tr>\n",
       "      <th>PSV</th>\n",
       "      <td>Sports</td>\n",
       "    </tr>\n",
       "    <tr>\n",
       "      <th>Wii</th>\n",
       "      <td>Strategy</td>\n",
       "    </tr>\n",
       "    <tr>\n",
       "      <th>WiiU</th>\n",
       "      <td>Strategy</td>\n",
       "    </tr>\n",
       "    <tr>\n",
       "      <th>X360</th>\n",
       "      <td>Strategy</td>\n",
       "    </tr>\n",
       "    <tr>\n",
       "      <th>XB</th>\n",
       "      <td>Strategy</td>\n",
       "    </tr>\n",
       "    <tr>\n",
       "      <th>XOne</th>\n",
       "      <td>Strategy</td>\n",
       "    </tr>\n",
       "  </tbody>\n",
       "</table>\n",
       "</div>"
      ],
      "text/plain": [
       "             Genre\n",
       "Platform          \n",
       "3DS       Strategy\n",
       "DC          Sports\n",
       "DS        Strategy\n",
       "GBA       Strategy\n",
       "GC        Strategy\n",
       "PC        Strategy\n",
       "PS        Strategy\n",
       "PS2       Strategy\n",
       "PS3       Strategy\n",
       "PS4       Strategy\n",
       "PSP       Strategy\n",
       "PSV         Sports\n",
       "Wii       Strategy\n",
       "WiiU      Strategy\n",
       "X360      Strategy\n",
       "XB        Strategy\n",
       "XOne      Strategy"
      ]
     },
     "execution_count": 760,
     "metadata": {},
     "output_type": "execute_result"
    }
   ],
   "source": [
    "project.groupby(['Platform'])[['Genre']].max()"
   ]
  },
  {
   "cell_type": "markdown",
   "id": "6e8023d5",
   "metadata": {},
   "source": [
    "Good analysis of the market haighlite you'r next step,as we can see there is Great acquisition from the Strategy Gener on the Platforms. That can be consedered to games developers team.\n",
    "$\\;\\;\\;\\;\\;\\;$\n",
    "$\\;\\;\\;\\;\\;\\;$"
   ]
  },
  {
   "cell_type": "markdown",
   "id": "17661133",
   "metadata": {},
   "source": [
    "## Q3.What is the Top five bestseller gems?\n",
    "$\\;\\;\\;\\;\\;\\;$"
   ]
  },
  {
   "cell_type": "code",
   "execution_count": 761,
   "id": "8bebb239",
   "metadata": {
    "scrolled": true
   },
   "outputs": [
    {
     "data": {
      "image/png": "[encoded data removed]",
      "text/plain": [
       "<Figure size 504x216 with 1 Axes>"
      ]
     },
     "metadata": {
      "needs_background": "light"
     },
     "output_type": "display_data"
    }
   ],
   "source": [
    "project.groupby(['Name'])[['Global_Sales']].sum().sort_values('Global_Sales',ascending=False).iloc[0:5].plot.bar(legend=None,color='#F5F5DC');\n",
    "plt.xticks(rotation =11);\n",
    "plt.title('Top five bestseller gems',family='serif',fontsize = 22,pad=30,color='#556B2F');\n",
    "plt.xlabel('Name',fontsize = 10,color='#556B2F');\n",
    "plt.ylabel('Global Sales in M',fontsize = 10, color='#556B2F');\n",
    "plt.rcParams[\"figure.figsize\"] = [7,3]\n",
    "plt.savefig('imageq3.png')"
   ]
  },
  {
   "cell_type": "markdown",
   "id": "4aa71cf6",
   "metadata": {},
   "source": [
    "It’s important to know how to reach your target audience!\n",
    "from Nice simple question we can obtain to many fechers in our new games devplopments by simply analyze each\n",
    "game and find good data analysis of target community, preferred type of visualisation and so,on.Also we can \n",
    "find Similarities of all five games for example, all of them available on PS3 platform so, we can publish \n",
    "our new game on that platform since we know fact it have wide users over the world.\n",
    "All that facts can help to increase your sales by align the market needs."
   ]
  },
  {
   "cell_type": "markdown",
   "id": "c26853b9",
   "metadata": {},
   "source": [
    "## Q4. Who is the top selling publisher?\n",
    "$\\;\\;\\;\\;\\;\\;$"
   ]
  },
  {
   "cell_type": "code",
   "execution_count": 762,
   "id": "a31adc65",
   "metadata": {
    "scrolled": true
   },
   "outputs": [
    {
     "data": {
      "text/html": [
       "<div>\n",
       "<style scoped>\n",
       "    .dataframe tbody tr th:only-of-type {\n",
       "        vertical-align: middle;\n",
       "    }\n",
       "\n",
       "    .dataframe tbody tr th {\n",
       "        vertical-align: top;\n",
       "    }\n",
       "\n",
       "    .dataframe thead th {\n",
       "        text-align: right;\n",
       "    }\n",
       "</style>\n",
       "<table border=\"1\" class=\"dataframe\">\n",
       "  <thead>\n",
       "    <tr style=\"text-align: right;\">\n",
       "      <th></th>\n",
       "      <th>Global_Sales</th>\n",
       "    </tr>\n",
       "    <tr>\n",
       "      <th>Publisher</th>\n",
       "      <th></th>\n",
       "    </tr>\n",
       "  </thead>\n",
       "  <tbody>\n",
       "    <tr>\n",
       "      <th>Electronic Arts</th>\n",
       "      <td>889.7900</td>\n",
       "    </tr>\n",
       "    <tr>\n",
       "      <th>Nintendo</th>\n",
       "      <td>857.7800</td>\n",
       "    </tr>\n",
       "    <tr>\n",
       "      <th>Activision</th>\n",
       "      <td>551.3300</td>\n",
       "    </tr>\n",
       "  </tbody>\n",
       "</table>\n",
       "</div>"
      ],
      "text/plain": [
       "                 Global_Sales\n",
       "Publisher                    \n",
       "Electronic Arts      889.7900\n",
       "Nintendo             857.7800\n",
       "Activision           551.3300"
      ]
     },
     "execution_count": 762,
     "metadata": {},
     "output_type": "execute_result"
    }
   ],
   "source": [
    "\n",
    "project.groupby(['Publisher'])[['Global_Sales']].sum().sort_values('Global_Sales',ascending=False).iloc[0:3]"
   ]
  },
  {
   "cell_type": "code",
   "execution_count": 763,
   "id": "cb8559f0",
   "metadata": {
    "scrolled": false
   },
   "outputs": [
    {
     "data": {
      "image/png": "[encoded data removed]",
      "text/plain": [
       "<Figure size 504x216 with 1 Axes>"
      ]
     },
     "metadata": {
      "needs_background": "light"
     },
     "output_type": "display_data"
    }
   ],
   "source": [
    "project.groupby(['Publisher'])[['Global_Sales']].sum().sort_values('Global_Sales',ascending=False).iloc[0:3].plot.bar(legend=None,color='#F5F5DC');\n",
    "plt.xticks(rotation =1);\n",
    "plt.title('Top selling publisher',family='serif',fontsize = 22,pad=30,color='#556B2F');\n",
    "plt.xlabel('Publisher',fontsize = 10,color='#556B2F');\n",
    "plt.ylabel('Global Sales in M',fontsize = 10, color='#556B2F');\n",
    "plt.rcParams[\"figure.figsize\"] = [7,3]\n",
    "plt.savefig('imageq4.png')"
   ]
  },
  {
   "cell_type": "markdown",
   "id": "ebd45d2f",
   "metadata": {},
   "source": [
    "The Top selling publisher is Electronic Arts, Nintendo, Activation."
   ]
  },
  {
   "cell_type": "markdown",
   "id": "257db953",
   "metadata": {},
   "source": [
    "## Which country has largest sales over the world?\n",
    "$\\;\\;\\;\\;\\;\\;$"
   ]
  },
  {
   "cell_type": "code",
   "execution_count": 764,
   "id": "1b61e71d",
   "metadata": {},
   "outputs": [
    {
     "data": {
      "image/png": "[encoded data removed]",
      "text/plain": [
       "<Figure size 504x216 with 1 Axes>"
      ]
     },
     "metadata": {},
     "output_type": "display_data"
    }
   ],
   "source": [
    "Global_Sales=np.arange(1,4)\n",
    "plt.pie(Global_Sales,labels=[' North America Sales','Europe Sales','Japan Sales'],colors = ['#808000','#F5F5DC','#CDD193'],explode =[.1,.1,0]);\n",
    "plt.rcParams[\"figure.figsize\"] = [10,6]\n",
    "plt.title('country sales over the world',family='serif',fontsize = 22,pad=70,color='black');\n",
    "plt.savefig('imageq5.png')"
   ]
  },
  {
   "cell_type": "markdown",
   "id": "ade75993",
   "metadata": {},
   "source": [
    "As you can see above, japan has the largest sales over the world in 1985 - 2016.\n",
    "Knowing your user demographics will be necessary for selecting the right channels for your promotions. \n",
    "And Exposure new Foreign Investment Opportunities.\n",
    "$\\;\\;\\;\\;\\;\\;$\n",
    "$\\;\\;\\;\\;\\;\\;$\n",
    "$\\;\\;\\;\\;\\;\\;$\n",
    "$\\;\\;\\;\\;\\;\\;$"
   ]
  },
  {
   "cell_type": "markdown",
   "id": "b7ddfca1",
   "metadata": {},
   "source": [
    "$\\;\\;\\;\\;\\;\\;$\n",
    "$\\;\\;\\;\\;\\;\\;$\n",
    "##### This Work Done By: Elham alzahrani. \n",
    "$\\;\\;\\;\\;\\;\\;$\n",
    "$\\;\\;\\;\\;\\;\\;$"
   ]
  },
  {
   "cell_type": "markdown",
   "id": "b435df60",
   "metadata": {},
   "source": [
    "Thank you\n",
    "$\\;\\;\\;\\;\\;\\;$"
   ]
  },
  {
   "cell_type": "code",
   "execution_count": null,
   "id": "11cae182",
   "metadata": {},
   "outputs": [],
   "source": []
  }
 ],
 "metadata": {
  "kernelspec": {
   "display_name": "Python 3",
   "language": "python",
   "name": "python3"
  },
  "language_info": {
   "codemirror_mode": {
    "name": "ipython",
    "version": 3
   },
   "file_extension": ".py",
   "mimetype": "text/x-python",
   "name": "python",
   "nbconvert_exporter": "python",
   "pygments_lexer": "ipython3",
   "version": "3.8.8"
  }
 },
 "nbformat": 4,
 "nbformat_minor": 5
}
